{
 "cells": [
  {
   "cell_type": "markdown",
   "metadata": {},
   "source": [
    "# Programming assignment 7: SVM"
   ]
  },
  {
   "cell_type": "code",
   "execution_count": 1,
   "metadata": {},
   "outputs": [
    {
     "ename": "ImportError",
     "evalue": "No module named 'sklearn'",
     "output_type": "error",
     "traceback": [
      "\u001b[0;31m---------------------------------------------------------------------------\u001b[0m",
      "\u001b[0;31mImportError\u001b[0m                               Traceback (most recent call last)",
      "\u001b[0;32m<ipython-input-1-de984c97d3eb>\u001b[0m in \u001b[0;36m<module>\u001b[0;34m()\u001b[0m\n\u001b[1;32m      3\u001b[0m \u001b[0mget_ipython\u001b[0m\u001b[0;34m(\u001b[0m\u001b[0;34m)\u001b[0m\u001b[0;34m.\u001b[0m\u001b[0mmagic\u001b[0m\u001b[0;34m(\u001b[0m\u001b[0;34m'matplotlib inline'\u001b[0m\u001b[0;34m)\u001b[0m\u001b[0;34m\u001b[0m\u001b[0m\n\u001b[1;32m      4\u001b[0m \u001b[0;34m\u001b[0m\u001b[0m\n\u001b[0;32m----> 5\u001b[0;31m \u001b[0;32mfrom\u001b[0m \u001b[0msklearn\u001b[0m\u001b[0;34m.\u001b[0m\u001b[0mdatasets\u001b[0m \u001b[0;32mimport\u001b[0m \u001b[0mmake_blobs\u001b[0m\u001b[0;34m\u001b[0m\u001b[0m\n\u001b[0m\u001b[1;32m      6\u001b[0m \u001b[0;34m\u001b[0m\u001b[0m\n\u001b[1;32m      7\u001b[0m \u001b[0;32mfrom\u001b[0m \u001b[0mcvxopt\u001b[0m \u001b[0;32mimport\u001b[0m \u001b[0mmatrix\u001b[0m\u001b[0;34m,\u001b[0m \u001b[0msolvers\u001b[0m\u001b[0;34m\u001b[0m\u001b[0m\n",
      "\u001b[0;31mImportError\u001b[0m: No module named 'sklearn'"
     ]
    }
   ],
   "source": [
    "import numpy as np\n",
    "import matplotlib.pyplot as plt\n",
    "%matplotlib inline\n",
    "\n",
    "from sklearn.datasets import make_blobs\n",
    "\n",
    "from cvxopt import matrix, solvers"
   ]
  },
  {
   "cell_type": "markdown",
   "metadata": {},
   "source": [
    "## Your task"
   ]
  },
  {
   "cell_type": "markdown",
   "metadata": {},
   "source": [
    "In this sheet we will implement a simple binary SVM classifier.\n",
    "\n",
    "We will use **`CVXOPT`** http://cvxopt.org/ - a Python library for convex optimization. If you use `Anaconda`, you can install it using\n",
    "\n",
    "    conda install cvxopt\n",
    "    \n",
    "As usual, your task is to fill out the missing code, run the notebook, convert it to PDF and attach it you your HW solution."
   ]
  },
  {
   "cell_type": "markdown",
   "metadata": {},
   "source": [
    "## Generate and visualize the data"
   ]
  },
  {
   "cell_type": "code",
   "execution_count": 1,
   "metadata": {},
   "outputs": [
    {
     "ename": "NameError",
     "evalue": "name 'make_blobs' is not defined",
     "output_type": "error",
     "traceback": [
      "\u001b[0;31m---------------------------------------------------------------------------\u001b[0m",
      "\u001b[0;31mNameError\u001b[0m                                 Traceback (most recent call last)",
      "\u001b[0;32m<ipython-input-1-3cf66cd5f556>\u001b[0m in \u001b[0;36m<module>\u001b[0;34m()\u001b[0m\n\u001b[1;32m      4\u001b[0m \u001b[0mseed\u001b[0m \u001b[0;34m=\u001b[0m \u001b[0;36m3\u001b[0m  \u001b[0;31m# for reproducible experiments\u001b[0m\u001b[0;34m\u001b[0m\u001b[0m\n\u001b[1;32m      5\u001b[0m \u001b[0;34m\u001b[0m\u001b[0m\n\u001b[0;32m----> 6\u001b[0;31m \u001b[0mX\u001b[0m\u001b[0;34m,\u001b[0m \u001b[0my\u001b[0m \u001b[0;34m=\u001b[0m \u001b[0mmake_blobs\u001b[0m\u001b[0;34m(\u001b[0m\u001b[0mn_samples\u001b[0m\u001b[0;34m=\u001b[0m\u001b[0mN\u001b[0m\u001b[0;34m,\u001b[0m \u001b[0mn_features\u001b[0m\u001b[0;34m=\u001b[0m\u001b[0mD\u001b[0m\u001b[0;34m,\u001b[0m \u001b[0mcenters\u001b[0m\u001b[0;34m=\u001b[0m\u001b[0;36m2\u001b[0m\u001b[0;34m,\u001b[0m \u001b[0mrandom_state\u001b[0m\u001b[0;34m=\u001b[0m\u001b[0mseed\u001b[0m\u001b[0;34m)\u001b[0m\u001b[0;34m\u001b[0m\u001b[0m\n\u001b[0m\u001b[1;32m      7\u001b[0m \u001b[0my\u001b[0m\u001b[0;34m[\u001b[0m\u001b[0my\u001b[0m \u001b[0;34m==\u001b[0m \u001b[0;36m0\u001b[0m\u001b[0;34m]\u001b[0m \u001b[0;34m=\u001b[0m \u001b[0;34m-\u001b[0m\u001b[0;36m1\u001b[0m  \u001b[0;31m# it is more convenient to have {-1, 1} as class labels (instead of {0, 1})\u001b[0m\u001b[0;34m\u001b[0m\u001b[0m\n\u001b[1;32m      8\u001b[0m \u001b[0my\u001b[0m \u001b[0;34m=\u001b[0m \u001b[0my\u001b[0m\u001b[0;34m.\u001b[0m\u001b[0mastype\u001b[0m\u001b[0;34m(\u001b[0m\u001b[0mnp\u001b[0m\u001b[0;34m.\u001b[0m\u001b[0mfloat\u001b[0m\u001b[0;34m)\u001b[0m\u001b[0;34m\u001b[0m\u001b[0m\n",
      "\u001b[0;31mNameError\u001b[0m: name 'make_blobs' is not defined"
     ]
    }
   ],
   "source": [
    "N = 100  # number of samples\n",
    "D = 2  # number of dimensions\n",
    "C = 2  # number of classes\n",
    "seed = 3  # for reproducible experiments\n",
    "\n",
    "X, y = make_blobs(n_samples=N, n_features=D, centers=2, random_state=seed)\n",
    "y[y == 0] = -1  # it is more convenient to have {-1, 1} as class labels (instead of {0, 1})\n",
    "y = y.astype(np.float)\n",
    "plt.figure(figsize=[10, 8])\n",
    "plt.scatter(X[:, 0], X[:, 1], c=y)\n",
    "plt.show()"
   ]
  },
  {
   "cell_type": "markdown",
   "metadata": {},
   "source": [
    "## Task 1: Solving the SVM dual problem"
   ]
  },
  {
   "cell_type": "markdown",
   "metadata": {},
   "source": [
    "Remember, that the SVM dual problem can be formulated as a Quadratic programming (QP) problem.\n",
    "We will solve it using a QP solver from the `CVXOPT` library.\n",
    "\n",
    "The general form of a QP is\n",
    "$$\\min_{\\mathbf{x}} \\frac{1}{2}\\mathbf{x}^T \\mathbf{P} \\mathbf{x} + \\mathbf{q}^T \\mathbf{x}$$\n",
    "\n",
    "$$\\text{subject to } \\quad \\mathbf{G}\\mathbf{x} \\preceq \\mathbf{h}$$\n",
    "\n",
    "$$\\text{and } \\quad \\mathbf{A}\\mathbf{x} = \\mathbf{b}$$\n",
    "\n",
    "where $\\preceq$ denotes \"elementwise less than or equal to\".\n",
    "\n",
    "**Your task** is to formulate the SVM dual problems as a QP and solve it using `CVXOPT`, i.e. specify the matrices $\\mathbf{P}, \\mathbf{G}, \\mathbf{A}$ and vectors $\\mathbf{q}, \\mathbf{h}, \\mathbf{b}$."
   ]
  },
  {
   "cell_type": "code",
   "execution_count": 3,
   "metadata": {
    "collapsed": true
   },
   "outputs": [],
   "source": [
    "def solve_dual_svm(X, y):\n",
    "    \"\"\"Solve the dual formulation of the SVM problem.\n",
    "    \n",
    "    Parameters\n",
    "    ----------\n",
    "    X : array, shape [N, D]\n",
    "        Input features.\n",
    "    y : array, shape [N]\n",
    "        Binary class labels (in {-1, 1} format).\n",
    "    \n",
    "    Returns\n",
    "    -------\n",
    "    alphas : array, shape [N]\n",
    "        Solution of the dual problem.\n",
    "    \"\"\"\n",
    "    # TODO\n",
    "    # These variables have to be of type cvxopt.matrix\n",
    "    P = matrix(...)\n",
    "    q = matrix(...)\n",
    "    G = matrix(...)\n",
    "    h = matrix(...)\n",
    "    A = matrix(...)\n",
    "    b = matrix(...)\n",
    "    solvers.options['show_progress'] = False\n",
    "    solution = solvers.qp(P, q, G, h, A, b)\n",
    "    alphas = np.array(solution['x'])\n",
    "    return alphas"
   ]
  },
  {
   "cell_type": "markdown",
   "metadata": {},
   "source": [
    "## Task 2: Recovering the weights and the bias"
   ]
  },
  {
   "cell_type": "code",
   "execution_count": 4,
   "metadata": {
    "collapsed": true
   },
   "outputs": [],
   "source": [
    "def compute_weights_and_bias(alpha, X, y):\n",
    "    \"\"\"Recover the weights w and the bias b using the dual solution alpha.\n",
    "    \n",
    "    Parameters\n",
    "    ----------\n",
    "    alpha : array, shape [N]\n",
    "        Solution of the dual problem.\n",
    "    X : array, shape [N, D]\n",
    "        Input features.\n",
    "    y : array, shape [N]\n",
    "        Binary class labels (in {-1, 1} format).\n",
    "    \n",
    "    Returns\n",
    "    -------\n",
    "    w : array, shape [D]\n",
    "        Weight vector.\n",
    "    b : float\n",
    "        Bias term.\n",
    "    \"\"\"\n",
    "    w = None\n",
    "    b = None\n",
    "    return w, b"
   ]
  },
  {
   "cell_type": "markdown",
   "metadata": {},
   "source": [
    "## Visualize the result (nothing to do here)"
   ]
  },
  {
   "cell_type": "code",
   "execution_count": 32,
   "metadata": {
    "collapsed": true
   },
   "outputs": [],
   "source": [
    "def plot_data_with_hyperplane_and_support_vectors(X, y, alpha, w, b):\n",
    "    \"\"\"Plot the data as a scatter plot together with the separating hyperplane.\n",
    "    \n",
    "    Parameters\n",
    "    ----------\n",
    "    X : array, shape [N, D]\n",
    "        Input features.\n",
    "    y : array, shape [N]\n",
    "        Binary class labels (in {-1, 1} format).\n",
    "    alpha : array, shape [N]\n",
    "        Solution of the dual problem.\n",
    "    w : array, shape [D]\n",
    "        Weight vector.\n",
    "    b : float\n",
    "        Bias term.\n",
    "    \"\"\"\n",
    "    plt.figure(figsize=[10, 8])\n",
    "    # Plot the hyperplane\n",
    "    slope = -w[0] / w[1]\n",
    "    intercept = -b / w[1]\n",
    "    x = np.linspace(X[:, 0].min(), X[:, 0].max())\n",
    "    plt.plot(x, x * slope + intercept, 'k-', label='decision boundary')\n",
    "    # Plot all the datapoints\n",
    "    plt.scatter(X[:, 0], X[:, 1], c=y)\n",
    "    # Mark the support vectors\n",
    "    support_vecs = (alpha > 1e-4).reshape(-1)\n",
    "    plt.scatter(X[support_vecs, 0], X[support_vecs, 1], c=y[support_vecs], s=250, marker='*', label='support vectors')\n",
    "    plt.xlabel('$x_1$')\n",
    "    plt.ylabel('$x_2$')\n",
    "    plt.legend(loc='upper left')"
   ]
  },
  {
   "cell_type": "markdown",
   "metadata": {},
   "source": [
    "The reference solution is\n",
    "\n",
    "    w = array([[-0.69192638],\n",
    "               [-1.00973312]])\n",
    "    \n",
    "    b = 0.907667782\n",
    "\n",
    "Indices of the support vectors are\n",
    "    \n",
    "    [38, 47, 92]"
   ]
  },
  {
   "cell_type": "code",
   "execution_count": 33,
   "metadata": {},
   "outputs": [
    {
     "data": {
      "image/png": "[encoded data removed]",
      "text/plain": [
       "<matplotlib.figure.Figure at 0x7fb8743a2c18>"
      ]
     },
     "metadata": {},
     "output_type": "display_data"
    }
   ],
   "source": [
    "alpha = solve_dual_svm(X, y)\n",
    "w, b = compute_weights_and_bias(alpha, X, y)\n",
    "plot_data_with_hyperplane_and_support_vectors(X, y, alpha, w, b)\n",
    "plt.show()"
   ]
  }
 ],
 "metadata": {
  "kernelspec": {
   "display_name": "Python 3",
   "language": "python",
   "name": "python3"
  }
 },
 "nbformat": 4,
 "nbformat_minor": 2
}
